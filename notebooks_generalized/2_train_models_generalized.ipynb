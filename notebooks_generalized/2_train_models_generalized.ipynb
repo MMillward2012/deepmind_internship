{
 "cells": [
  {
   "cell_type": "markdown",
   "metadata": {},
   "source": [
    "# 🏋️ Model Training Pipeline - Generalized\n",
    "\n",
    "This notebook handles training of all configured models using the processed datasets.\n",
    "\n",
    "**Key Features:**\n",
    "- Multi-model training with configuration-driven approach\n",
    "- Automatic hyperparameter optimization\n",
    "- Training progress monitoring and logging\n",
    "- Model evaluation and validation\n",
    "- Checkpoint management and model saving\n",
    "\n",
    "**Configuration-driven approach:** All settings loaded from `../config/pipeline_config.json`"
   ]
  },
  {
   "cell_type": "code",
   "execution_count": 1,
   "metadata": {},
   "outputs": [
    {
     "name": "stderr",
     "output_type": "stream",
     "text": [
      "2025-08-08 16:42:38,437 - pipeline.training - INFO - 🏋️ Starting Model Training - Generalized Pipeline\n"
     ]
    },
    {
     "name": "stdout",
     "output_type": "stream",
     "text": [
      "📋 Configuration loaded from ../config/pipeline_config.json\n"
     ]
    }
   ],
   "source": [
    "# Import configuration system and training utilities\n",
    "import sys\n",
    "import os\n",
    "sys.path.append('../')\n",
    "\n",
    "from src.pipeline_utils import ConfigManager, StateManager, LoggingManager\n",
    "import torch\n",
    "import torch.nn as nn\n",
    "from transformers import (\n",
    "    AutoTokenizer, AutoModelForSequenceClassification,\n",
    "    TrainingArguments, Trainer, DataCollatorWithPadding\n",
    ")\n",
    "from datasets import Dataset\n",
    "import pandas as pd\n",
    "import numpy as np\n",
    "from pathlib import Path\n",
    "import json\n",
    "from datetime import datetime\n",
    "from sklearn.metrics import accuracy_score, classification_report, confusion_matrix\n",
    "import matplotlib.pyplot as plt\n",
    "import seaborn as sns\n",
    "\n",
    "# Initialize managers\n",
    "config = ConfigManager('../config/pipeline_config.json')\n",
    "state = StateManager('../config/pipeline_state.json')\n",
    "logger_manager = LoggingManager(config, 'training')\n",
    "logger = logger_manager.get_logger()\n",
    "\n",
    "logger.info(\"🏋️ Starting Model Training - Generalized Pipeline\")\n",
    "print(\"📋 Configuration loaded from ../config/pipeline_config.json\")"
   ]
  },
  {
   "cell_type": "code",
   "execution_count": 2,
   "metadata": {},
   "outputs": [
    {
     "name": "stderr",
     "output_type": "stream",
     "text": [
      "2025-08-08 16:42:38,450 - pipeline.training - INFO - 🔍 Checking training prerequisites...\n",
      "2025-08-08 16:42:38,475 - pipeline.training - INFO - Successfully loaded training data\n",
      "2025-08-08 16:42:38,475 - pipeline.training - INFO - Successfully loaded training data\n"
     ]
    },
    {
     "name": "stdout",
     "output_type": "stream",
     "text": [
      "✅ Data processing verification passed\n",
      "🏋️ Training Configuration:\n",
      "   📊 Batch size: 16\n",
      "   🔄 Epochs: 3\n",
      "   📈 Learning rate: 2e-05\n",
      "   🤖 Models to train: 2\n",
      "\n",
      "📂 Loading Processed Datasets:\n",
      "   ✅ Training data loaded:\n",
      "      📊 Train: 4361 samples\n",
      "      📊 Validation: 485 samples\n",
      "      🏷️ Labels: ['negative', 'neutral', 'positive']\n"
     ]
    }
   ],
   "source": [
    "# Verify prerequisites and load processed data\n",
    "logger.info(\"🔍 Checking training prerequisites...\")\n",
    "\n",
    "# Verify data processing was completed\n",
    "if not state.is_step_complete('data_processing_completed'):\n",
    "    logger.error(\"Data processing step not completed. Please run 1_data_processing_generalized.ipynb first.\")\n",
    "    raise RuntimeError(\"Data processing required. Run 1_data_processing_generalized.ipynb first.\")\n",
    "\n",
    "print(\"✅ Data processing verification passed\")\n",
    "\n",
    "# Load training configuration\n",
    "training_config = config.get('training', {})\n",
    "models_config = config.get('models', {})\n",
    "data_config = config.get('data', {})\n",
    "\n",
    "print(f\"🏋️ Training Configuration:\")\n",
    "print(f\"   📊 Batch size: {training_config.get('batch_size', 16)}\")\n",
    "print(f\"   🔄 Epochs: {training_config.get('num_epochs', 3)}\")\n",
    "print(f\"   📈 Learning rate: {training_config.get('learning_rate', 2e-5)}\")\n",
    "\n",
    "# Get base models from configuration\n",
    "base_models = models_config.get('base_models', [])\n",
    "enabled_models = [m for m in base_models if m.get('enabled', True)]\n",
    "print(f\"   🤖 Models to train: {len(enabled_models)}\")\n",
    "\n",
    "# Load processed datasets\n",
    "print(f\"\\n📂 Loading Processed Datasets:\")\n",
    "processed_data_dir = data_config.get('processed_data_dir', 'data/processed')\n",
    "train_path = Path(f\"../{processed_data_dir}/train.csv\")\n",
    "val_path = Path(f\"../{processed_data_dir}/validation.csv\")\n",
    "\n",
    "if train_path.exists() and val_path.exists():\n",
    "    train_df = pd.read_csv(train_path)\n",
    "    val_df = pd.read_csv(val_path)\n",
    "    \n",
    "    print(f\"   ✅ Training data loaded:\")\n",
    "    print(f\"      📊 Train: {len(train_df)} samples\")\n",
    "    print(f\"      📊 Validation: {len(val_df)} samples\")\n",
    "    print(f\"      🏷️ Labels: {sorted(train_df['label'].unique())}\")\n",
    "    \n",
    "    logger.info(f\"Successfully loaded training data\")\n",
    "else:\n",
    "    logger.error(f\"Processed data not found at {train_path} or {val_path}\")\n",
    "    raise FileNotFoundError(\"Processed data not found. Please run 1_data_processing_generalized.ipynb first.\")"
   ]
  },
  {
   "cell_type": "code",
   "execution_count": null,
   "metadata": {},
   "outputs": [
    {
     "name": "stderr",
     "output_type": "stream",
     "text": [
      "2025-08-08 16:42:38,485 - pipeline.training - INFO - ⚡ Applying training optimizations...\n",
      "2025-08-08 16:42:38,488 - pipeline.training - INFO - Training optimizations completed\n",
      "2025-08-08 16:42:38,488 - pipeline.training - INFO - Training optimizations completed\n"
     ]
    },
    {
     "name": "stdout",
     "output_type": "stream",
     "text": [
      "⚡ Training Optimizations:\n",
      "   💻 CPU training: reduced batch size to 2\n",
      "   🔄 Gradient accumulation steps: 8\n",
      "   📏 Max sequence length: 128\n",
      "   🔄 Reduced to 1 epoch for faster training (increase later if needed)\n",
      "   ✅ Optimizations applied\n"
     ]
    }
   ],
   "source": [
    "# Training optimization for performance\n",
    "logger.info(\"⚡ Applying training optimizations...\")\n",
    "\n",
    "# Detect device capabilities and optimize settings\n",
    "device_info = torch.cuda.get_device_properties(0) if torch.cuda.is_available() else None\n",
    "is_mps = torch.backends.mps.is_available() if hasattr(torch.backends, 'mps') else False\n",
    "\n",
    "print(\"⚡ Training Optimizations:\")\n",
    "\n",
    "if device_info:\n",
    "    gpu_memory_gb = device_info.total_memory / 1e9\n",
    "    print(f\"   💾 GPU Memory: {gpu_memory_gb:.1f} GB\")\n",
    "    \n",
    "    # Adjust batch size based on GPU memory\n",
    "    if gpu_memory_gb < 8:\n",
    "        training_config['batch_size'] = 2\n",
    "        print(f\"   📊 Reduced batch size to 2 (low GPU memory)\")\n",
    "    elif gpu_memory_gb < 16:\n",
    "        training_config['batch_size'] = 4\n",
    "        print(f\"   📊 Reduced batch size to 4 (medium GPU memory)\")\n",
    "elif is_mps:\n",
    "    # Apple Silicon MPS - very conservative settings\n",
    "    training_config['batch_size'] = 1  # Minimal batch size for MPS\n",
    "    print(f\"   🍎 Apple Silicon MPS detected: batch size set to 1\")\n",
    "    print(f\"   ⚠️ Using aggressive memory conservation for MPS\")\n",
    "else:\n",
    "    # CPU training - use smaller batch size\n",
    "    training_config['batch_size'] = 2\n",
    "    print(f\"   💻 CPU training: reduced batch size to 2\")\n",
    "\n",
    "# Enable gradient accumulation for effective larger batch size\n",
    "if training_config['batch_size'] < 8:\n",
    "    training_config['gradient_accumulation_steps'] = max(1, 8 // training_config['batch_size'])\n",
    "    print(f\"   🔄 Gradient accumulation steps: {training_config['gradient_accumulation_steps']}\")\n",
    "\n",
    "# Reduce sequence length for faster training and less memory\n",
    "training_config['max_length'] = 64 if is_mps else 128  # Even shorter for MPS\n",
    "print(f\"   📏 Max sequence length: {training_config['max_length']}\")\n",
    "\n",
    "# Enable mixed precision if available (but not on MPS - can cause issues)\n",
    "if torch.cuda.is_available() and hasattr(torch.cuda, 'amp'):\n",
    "    training_config['fp16'] = True\n",
    "    print(f\"   ⚡ Mixed precision (FP16) enabled\")\n",
    "elif is_mps:\n",
    "    training_config['fp16'] = False\n",
    "    print(f\"   🍎 Mixed precision disabled for MPS compatibility\")\n",
    "\n",
    "# Reduce epochs for faster testing (can be increased later)\n",
    "if training_config.get('num_epochs', 3) > 1:\n",
    "    training_config['num_epochs'] = 1\n",
    "    print(f\"   🔄 Reduced to 1 epoch for faster training (increase later if needed)\")\n",
    "\n",
    "# Add memory management settings for MPS\n",
    "if is_mps:\n",
    "    training_config['dataloader_pin_memory'] = False\n",
    "    training_config['dataloader_num_workers'] = 0\n",
    "    training_config['save_total_limit'] = 1\n",
    "    print(f\"   🧹 Memory management optimizations for MPS enabled\")\n",
    "\n",
    "print(f\"   ✅ Optimizations applied\")\n",
    "logger.info(\"Training optimizations completed\")"
   ]
  },
  {
   "cell_type": "code",
   "execution_count": 4,
   "metadata": {},
   "outputs": [
    {
     "name": "stderr",
     "output_type": "stream",
     "text": [
      "2025-08-08 16:42:38,518 - pipeline.training - INFO - 🚀 Starting model training loop...\n",
      "2025-08-08 16:42:38,521 - pipeline.training - INFO - Starting training for tinybert-financial-classifier\n",
      "2025-08-08 16:42:38,521 - pipeline.training - INFO - Starting training for tinybert-financial-classifier\n"
     ]
    },
    {
     "name": "stdout",
     "output_type": "stream",
     "text": [
      "🔧 Training device: cpu\n",
      "\n",
      "🏋️ Training Models:\n",
      "============================================================\n",
      "\n",
      "🤖 Training tinybert-financial-classifier:\n",
      "   🔧 Base model: huawei-noah/TinyBERT_General_4L_312D\n",
      "   📈 Train samples: 4361\n",
      "   📊 Validation samples: 485\n",
      "   📊 Optimized batch size: 2\n",
      "   🏷️ Labels: ['negative', 'neutral', 'positive']\n",
      "   🔍 Data validation:\n",
      "      📊 Train label distribution: {'neutral': 2591, 'positive': 1227, 'negative': 543}\n",
      "      📊 Val label distribution: {'neutral': 288, 'positive': 136, 'negative': 61}\n"
     ]
    },
    {
     "name": "stderr",
     "output_type": "stream",
     "text": [
      "Some weights of BertForSequenceClassification were not initialized from the model checkpoint at huawei-noah/TinyBERT_General_4L_312D and are newly initialized: ['classifier.bias', 'classifier.weight']\n",
      "You should probably TRAIN this model on a down-stream task to be able to use it for predictions and inference.\n"
     ]
    },
    {
     "data": {
      "application/vnd.jupyter.widget-view+json": {
       "model_id": "43bb398c86b5493a9c2ee85a76073f2f",
       "version_major": 2,
       "version_minor": 0
      },
      "text/plain": [
       "Map:   0%|          | 0/4361 [00:00<?, ? examples/s]"
      ]
     },
     "metadata": {},
     "output_type": "display_data"
    },
    {
     "data": {
      "application/vnd.jupyter.widget-view+json": {
       "model_id": "3d64b7ac7fa3433dbe8843aba0b1957b",
       "version_major": 2,
       "version_minor": 0
      },
      "text/plain": [
       "Map:   0%|          | 0/485 [00:00<?, ? examples/s]"
      ]
     },
     "metadata": {},
     "output_type": "display_data"
    },
    {
     "name": "stdout",
     "output_type": "stream",
     "text": [
      "   🔄 Tokenization completed\n"
     ]
    },
    {
     "name": "stderr",
     "output_type": "stream",
     "text": [
      "/var/folders/b0/929kwd6500bc9dk55s_br5l40000gn/T/ipykernel_5688/2978193678.py:178: FutureWarning: `tokenizer` is deprecated and will be removed in version 5.0.0 for `Trainer.__init__`. Use `processing_class` instead.\n",
      "  trainer = Trainer(\n"
     ]
    },
    {
     "name": "stdout",
     "output_type": "stream",
     "text": [
      "   🏋️ Starting training... (estimated time reduced with optimizations)\n"
     ]
    },
    {
     "data": {
      "text/html": [
       "\n",
       "    <div>\n",
       "      \n",
       "      <progress value='273' max='273' style='width:300px; height:20px; vertical-align: middle;'></progress>\n",
       "      [273/273 04:07, Epoch 1/1]\n",
       "    </div>\n",
       "    <table border=\"1\" class=\"dataframe\">\n",
       "  <thead>\n",
       " <tr style=\"text-align: left;\">\n",
       "      <th>Epoch</th>\n",
       "      <th>Training Loss</th>\n",
       "      <th>Validation Loss</th>\n",
       "      <th>Accuracy</th>\n",
       "    </tr>\n",
       "  </thead>\n",
       "  <tbody>\n",
       "    <tr>\n",
       "      <td>1</td>\n",
       "      <td>0.762100</td>\n",
       "      <td>0.739950</td>\n",
       "      <td>0.762887</td>\n",
       "    </tr>\n",
       "  </tbody>\n",
       "</table><p>"
      ],
      "text/plain": [
       "<IPython.core.display.HTML object>"
      ]
     },
     "metadata": {},
     "output_type": "display_data"
    },
    {
     "data": {
      "text/html": [
       "\n",
       "    <div>\n",
       "      \n",
       "      <progress value='243' max='243' style='width:300px; height:20px; vertical-align: middle;'></progress>\n",
       "      [243/243 00:14]\n",
       "    </div>\n",
       "    "
      ],
      "text/plain": [
       "<IPython.core.display.HTML object>"
      ]
     },
     "metadata": {},
     "output_type": "display_data"
    },
    {
     "name": "stderr",
     "output_type": "stream",
     "text": [
      "2025-08-08 16:47:11,445 - pipeline.training - INFO - Successfully trained tinybert-financial-classifier\n",
      "2025-08-08 16:47:11,448 - pipeline.training - INFO - Starting training for finbert-tone\n",
      "2025-08-08 16:47:11,448 - pipeline.training - INFO - Starting training for finbert-tone\n"
     ]
    },
    {
     "name": "stdout",
     "output_type": "stream",
     "text": [
      "   ✅ Training completed!\n",
      "   📊 Final validation accuracy: 0.7629\n",
      "   📈 Final validation loss: 0.7399\n",
      "\n",
      "🤖 Training finbert-tone:\n",
      "   🔧 Base model: ProsusAI/finbert\n",
      "   📈 Train samples: 4361\n",
      "   📊 Validation samples: 485\n",
      "   📊 Optimized batch size: 2\n",
      "   🏷️ Labels: ['negative', 'neutral', 'positive']\n",
      "   🔍 Data validation:\n",
      "      📊 Train label distribution: {'neutral': 2591, 'positive': 1227, 'negative': 543}\n",
      "      📊 Val label distribution: {'neutral': 288, 'positive': 136, 'negative': 61}\n"
     ]
    },
    {
     "data": {
      "application/vnd.jupyter.widget-view+json": {
       "model_id": "53b472a08a674993a53fd73d5069c628",
       "version_major": 2,
       "version_minor": 0
      },
      "text/plain": [
       "Map:   0%|          | 0/4361 [00:00<?, ? examples/s]"
      ]
     },
     "metadata": {},
     "output_type": "display_data"
    },
    {
     "data": {
      "application/vnd.jupyter.widget-view+json": {
       "model_id": "cfa53592964540b8b10a3825a32f1d25",
       "version_major": 2,
       "version_minor": 0
      },
      "text/plain": [
       "Map:   0%|          | 0/485 [00:00<?, ? examples/s]"
      ]
     },
     "metadata": {},
     "output_type": "display_data"
    },
    {
     "name": "stdout",
     "output_type": "stream",
     "text": [
      "   🔄 Tokenization completed\n"
     ]
    },
    {
     "name": "stderr",
     "output_type": "stream",
     "text": [
      "/var/folders/b0/929kwd6500bc9dk55s_br5l40000gn/T/ipykernel_5688/2978193678.py:178: FutureWarning: `tokenizer` is deprecated and will be removed in version 5.0.0 for `Trainer.__init__`. Use `processing_class` instead.\n",
      "  trainer = Trainer(\n"
     ]
    },
    {
     "name": "stdout",
     "output_type": "stream",
     "text": [
      "   🏋️ Starting training... (estimated time reduced with optimizations)\n"
     ]
    },
    {
     "data": {
      "text/html": [
       "\n",
       "    <div>\n",
       "      \n",
       "      <progress value='20' max='273' style='width:300px; height:20px; vertical-align: middle;'></progress>\n",
       "      [ 20/273 01:19 < 18:37, 0.23 it/s, Epoch 0.07/1]\n",
       "    </div>\n",
       "    <table border=\"1\" class=\"dataframe\">\n",
       "  <thead>\n",
       " <tr style=\"text-align: left;\">\n",
       "      <th>Epoch</th>\n",
       "      <th>Training Loss</th>\n",
       "      <th>Validation Loss</th>\n",
       "    </tr>\n",
       "  </thead>\n",
       "  <tbody>\n",
       "  </tbody>\n",
       "</table><p>"
      ],
      "text/plain": [
       "<IPython.core.display.HTML object>"
      ]
     },
     "metadata": {},
     "output_type": "display_data"
    },
    {
     "name": "stderr",
     "output_type": "stream",
     "text": [
      "2025-08-08 16:48:51,039 - pipeline.training - ERROR - Failed to train finbert-tone: MPS backend out of memory (MPS allocated: 2.20 GB, other allocations: 6.84 GB, max allowed: 9.07 GB). Tried to allocate 89.42 MB on private pool. Use PYTORCH_MPS_HIGH_WATERMARK_RATIO=0.0 to disable upper limit for memory allocations (may cause system failure).\n",
      "2025-08-08 16:48:51,062 - pipeline.training - INFO - Training completed: 1 models trained\n",
      "2025-08-08 16:48:51,062 - pipeline.training - INFO - Training completed: 1 models trained\n"
     ]
    },
    {
     "name": "stdout",
     "output_type": "stream",
     "text": [
      "   ❌ Training failed: MPS backend out of memory (MPS allocated: 2.20 GB, other allocations: 6.84 GB, max allowed: 9.07 GB). Tried to allocate 89.42 MB on private pool. Use PYTORCH_MPS_HIGH_WATERMARK_RATIO=0.0 to disable upper limit for memory allocations (may cause system failure).\n",
      "⏭️ Skipping distilbert-base (disabled)\n",
      "\n",
      "============================================================\n",
      "🎉 Training completed! 1/2 models trained successfully\n"
     ]
    }
   ],
   "source": [
    "# Main training loop for all configured models\n",
    "logger.info(\"🚀 Starting model training loop...\")\n",
    "\n",
    "device = torch.device('cuda' if torch.cuda.is_available() else 'cpu')\n",
    "print(f\"🔧 Training device: {device}\")\n",
    "\n",
    "trained_models = {}\n",
    "training_results = {}\n",
    "\n",
    "print(f\"\\n🏋️ Training Models:\")\n",
    "print(f\"{'='*60}\")\n",
    "\n",
    "# Get base models from configuration\n",
    "base_models = models_config.get('base_models', [])\n",
    "\n",
    "for model_config in base_models:\n",
    "    if not model_config.get('enabled', True):\n",
    "        print(f\"⏭️ Skipping {model_config['name']} (disabled)\")\n",
    "        continue\n",
    "        \n",
    "    try:\n",
    "        model_name = model_config['name']\n",
    "        model_id = model_config['model_id']\n",
    "        \n",
    "        print(f\"\\n🤖 Training {model_name}:\")\n",
    "        logger.info(f\"Starting training for {model_name}\")\n",
    "        \n",
    "        print(f\"   🔧 Base model: {model_id}\")\n",
    "        print(f\"   📈 Train samples: {len(train_df)}\")\n",
    "        print(f\"   📊 Validation samples: {len(val_df)}\")\n",
    "        print(f\"   📊 Optimized batch size: {training_config.get('batch_size', 16)}\")\n",
    "        \n",
    "        # Create label mapping\n",
    "        unique_labels = sorted(train_df['label'].unique())\n",
    "        label2id = {label: idx for idx, label in enumerate(unique_labels)}\n",
    "        id2label = {idx: label for label, idx in label2id.items()}\n",
    "        \n",
    "        print(f\"   🏷️ Labels: {unique_labels}\")\n",
    "        \n",
    "        # Data validation\n",
    "        print(f\"   🔍 Data validation:\")\n",
    "        print(f\"      📊 Train label distribution: {dict(train_df['label'].value_counts())}\")\n",
    "        print(f\"      📊 Val label distribution: {dict(val_df['label'].value_counts())}\")\n",
    "        \n",
    "        # Check for any problematic labels\n",
    "        train_unknown = set(train_df['label'].unique()) - set(unique_labels)\n",
    "        val_unknown = set(val_df['label'].unique()) - set(unique_labels)\n",
    "        \n",
    "        if train_unknown:\n",
    "            logger.warning(f\"Unknown labels in train set: {train_unknown}\")\n",
    "        if val_unknown:\n",
    "            logger.warning(f\"Unknown labels in validation set: {val_unknown}\")\n",
    "            print(f\"      ⚠️ Unknown validation labels: {val_unknown}\")\n",
    "        \n",
    "        # Check for null values\n",
    "        train_nulls = train_df['label'].isnull().sum()\n",
    "        val_nulls = val_df['label'].isnull().sum()\n",
    "        \n",
    "        if train_nulls > 0:\n",
    "            print(f\"      ❌ {train_nulls} null labels in train set\")\n",
    "        if val_nulls > 0:\n",
    "            print(f\"      ❌ {val_nulls} null labels in validation set\")\n",
    "        \n",
    "        # Load tokenizer and model\n",
    "        tokenizer = AutoTokenizer.from_pretrained(model_id)\n",
    "        model = AutoModelForSequenceClassification.from_pretrained(\n",
    "            model_id,\n",
    "            num_labels=len(unique_labels),\n",
    "            label2id=label2id,\n",
    "            id2label=id2label\n",
    "        )\n",
    "        \n",
    "        # Prepare datasets with optimized tokenization\n",
    "        def tokenize_function(examples):\n",
    "            return tokenizer(\n",
    "                examples['text'], \n",
    "                truncation=True, \n",
    "                padding=False,  # Disable padding here - let DataCollator handle it\n",
    "                max_length=training_config.get('max_length', 128),  # Use optimized max length\n",
    "                return_tensors=None\n",
    "            )\n",
    "        \n",
    "        def prepare_dataset(df):\n",
    "            # Convert labels to ids\n",
    "            df_processed = df.copy()\n",
    "            \n",
    "            # Check for missing labels before mapping\n",
    "            missing_labels = set(df_processed['label'].unique()) - set(label2id.keys())\n",
    "            if missing_labels:\n",
    "                logger.warning(f\"Found labels not in training set: {missing_labels}\")\n",
    "                print(f\"   ⚠️ Warning: Unknown labels found: {missing_labels}\")\n",
    "                # Filter out rows with unknown labels\n",
    "                df_processed = df_processed[df_processed['label'].isin(label2id.keys())]\n",
    "                print(f\"   📊 Dataset size after filtering: {len(df_processed)} samples\")\n",
    "            \n",
    "            # Map labels to ids\n",
    "            df_processed['labels'] = df_processed['label'].map(label2id)\n",
    "            \n",
    "            # Check for any remaining NaN values\n",
    "            nan_count = df_processed['labels'].isna().sum()\n",
    "            if nan_count > 0:\n",
    "                logger.error(f\"Found {nan_count} NaN values in labels after mapping\")\n",
    "                print(f\"   ❌ Error: {nan_count} NaN values in labels\")\n",
    "                # Drop rows with NaN labels\n",
    "                df_processed = df_processed.dropna(subset=['labels'])\n",
    "                print(f\"   📊 Dataset size after dropping NaN: {len(df_processed)} samples\")\n",
    "            \n",
    "            # Ensure labels are integers and finite\n",
    "            df_processed['labels'] = df_processed['labels'].astype(int)\n",
    "            \n",
    "            # Validate no infinite values\n",
    "            if not np.isfinite(df_processed['labels']).all():\n",
    "                logger.error(\"Found non-finite values in labels\")\n",
    "                raise ValueError(\"Labels contain non-finite values\")\n",
    "            \n",
    "            # Create HuggingFace dataset\n",
    "            dataset = Dataset.from_pandas(df_processed[['text', 'labels']])\n",
    "            dataset = dataset.map(\n",
    "                tokenize_function, \n",
    "                batched=True, \n",
    "                remove_columns=['text'],  # Remove original text column\n",
    "                num_proc=1  # Single process to avoid multiprocessing overhead\n",
    "            )\n",
    "            \n",
    "            return dataset\n",
    "        \n",
    "        train_dataset = prepare_dataset(train_df)\n",
    "        val_dataset = prepare_dataset(val_df)\n",
    "        \n",
    "        print(f\"   🔄 Tokenization completed\")\n",
    "        \n",
    "        # Training arguments with optimizations\n",
    "        output_dir = Path(f\"../models/{model_name}\")\n",
    "        output_dir.mkdir(parents=True, exist_ok=True)\n",
    "        \n",
    "        training_args = TrainingArguments(\n",
    "            output_dir=str(output_dir),\n",
    "            num_train_epochs=training_config.get('num_epochs', 1),\n",
    "            per_device_train_batch_size=training_config.get('batch_size', 4),\n",
    "            per_device_eval_batch_size=training_config.get('batch_size', 4),\n",
    "            gradient_accumulation_steps=training_config.get('gradient_accumulation_steps', 1),\n",
    "            warmup_steps=training_config.get('warmup_steps', 50),  # Reduced warmup\n",
    "            weight_decay=training_config.get('weight_decay', 0.01),\n",
    "            learning_rate=training_config.get('learning_rate', 2e-5),\n",
    "            logging_dir=str(output_dir / 'logs'),\n",
    "            logging_steps=training_config.get('logging_steps', 25),  # More frequent logging\n",
    "            eval_strategy=\"epoch\",\n",
    "            save_strategy=\"epoch\",\n",
    "            load_best_model_at_end=True,\n",
    "            metric_for_best_model=\"eval_loss\",\n",
    "            greater_is_better=False,\n",
    "            report_to=None,  # Disable wandb/tensorboard\n",
    "            dataloader_num_workers=0,  # Avoid multiprocessing issues\n",
    "            save_total_limit=1,  # Save space\n",
    "            fp16=training_config.get('fp16', False),  # Use mixed precision if available\n",
    "            dataloader_pin_memory=False,  # Reduce memory overhead\n",
    "        )\n",
    "        \n",
    "        # Data collator - handles dynamic padding and tensor conversion\n",
    "        data_collator = DataCollatorWithPadding(\n",
    "            tokenizer=tokenizer,\n",
    "            padding=True,\n",
    "            return_tensors='pt'\n",
    "        )\n",
    "        \n",
    "        # Metrics function\n",
    "        def compute_metrics(eval_pred):\n",
    "            predictions, labels = eval_pred\n",
    "            predictions = np.argmax(predictions, axis=1)\n",
    "            \n",
    "            accuracy = accuracy_score(labels, predictions)\n",
    "            \n",
    "            return {\n",
    "                'accuracy': accuracy,\n",
    "            }\n",
    "        \n",
    "        # Create trainer\n",
    "        trainer = Trainer(\n",
    "            model=model,\n",
    "            args=training_args,\n",
    "            train_dataset=train_dataset,\n",
    "            eval_dataset=val_dataset,\n",
    "            tokenizer=tokenizer,\n",
    "            data_collator=data_collator,\n",
    "            compute_metrics=compute_metrics,\n",
    "        )\n",
    "        \n",
    "        print(f\"   🏋️ Starting training... (estimated time reduced with optimizations)\")\n",
    "        \n",
    "        # Train model\n",
    "        train_result = trainer.train()\n",
    "        \n",
    "        # Evaluate model\n",
    "        eval_result = trainer.evaluate()\n",
    "        \n",
    "        print(f\"   ✅ Training completed!\")\n",
    "        print(f\"   📊 Final validation accuracy: {eval_result['eval_accuracy']:.4f}\")\n",
    "        print(f\"   📈 Final validation loss: {eval_result['eval_loss']:.4f}\")\n",
    "        \n",
    "        # Save model and tokenizer\n",
    "        trainer.save_model()\n",
    "        tokenizer.save_pretrained(output_dir)\n",
    "        \n",
    "        # Save label mapping\n",
    "        import pickle\n",
    "        with open(output_dir / 'label_encoder.pkl', 'wb') as f:\n",
    "            pickle.dump({'label2id': label2id, 'id2label': id2label}, f)\n",
    "        \n",
    "        # Store results\n",
    "        trained_models[model_name] = {\n",
    "            'model_path': str(output_dir),\n",
    "            'base_model': model_id,\n",
    "            'labels': unique_labels,\n",
    "            'label_mapping': {'label2id': label2id, 'id2label': id2label}\n",
    "        }\n",
    "        \n",
    "        training_results[model_name] = {\n",
    "            'train_loss': train_result.training_loss,\n",
    "            'eval_loss': eval_result['eval_loss'],\n",
    "            'eval_accuracy': eval_result['eval_accuracy'],\n",
    "            'train_runtime': train_result.metrics.get('train_runtime', 0),\n",
    "            'samples_per_second': train_result.metrics.get('train_samples_per_second', 0)\n",
    "        }\n",
    "        \n",
    "        logger.info(f\"Successfully trained {model_name}\")\n",
    "        \n",
    "    except Exception as e:\n",
    "        logger.error(f\"Failed to train {model_name}: {str(e)}\")\n",
    "        print(f\"   ❌ Training failed: {str(e)}\")\n",
    "        continue\n",
    "\n",
    "print(f\"\\n{'='*60}\")\n",
    "print(f\"🎉 Training completed! {len(trained_models)}/{len(enabled_models)} models trained successfully\")\n",
    "\n",
    "logger.info(f\"Training completed: {len(trained_models)} models trained\")"
   ]
  },
  {
   "cell_type": "code",
   "execution_count": 6,
   "metadata": {},
   "outputs": [
    {
     "name": "stderr",
     "output_type": "stream",
     "text": [
      "2025-08-08 16:56:36,370 - pipeline.training - INFO - 💾 Saving training results and updating pipeline state...\n"
     ]
    },
    {
     "data": {
      "image/png": "[encoded data removed]",
      "text/plain": [
       "<Figure size 1500x500 with 3 Axes>"
      ]
     },
     "metadata": {},
     "output_type": "display_data"
    },
    {
     "name": "stderr",
     "output_type": "stream",
     "text": [
      "2025-08-08 16:56:37,085 - pipeline.training - INFO - ✅ Model training completed successfully\n"
     ]
    },
    {
     "name": "stdout",
     "output_type": "stream",
     "text": [
      "\n",
      "============================================================\n",
      "🎉 MODEL TRAINING COMPLETED SUCCESSFULLY!\n",
      "============================================================\n",
      "📝 Next Steps:\n",
      "1. Run 3_convert_to_onnx_generalized.ipynb to convert models to ONNX\n",
      "2. Run 4_benchmarks_generalized.ipynb to benchmark performance\n",
      "3. Continue with the sequential pipeline: 5 → 6\n",
      "\n",
      "🏋️ Training Summary:\n",
      "   🤖 Models trained: 1\n",
      "   📊 tinybert-financial-classifier:\n",
      "      🎯 Validation accuracy: 0.7629\n",
      "      📉 Validation loss: 0.7399\n",
      "      📁 Model saved to: ../models/tinybert-financial-classifier\n",
      "\n",
      "📄 Training report saved to: ../results/training_report.json\n",
      "📊 Results visualization saved to: ../results/training_results_comparison.png\n"
     ]
    }
   ],
   "source": [
    "# Save training results and complete training step\n",
    "logger.info(\"💾 Saving training results and updating pipeline state...\")\n",
    "\n",
    "# Create comprehensive training summary\n",
    "training_summary = {\n",
    "    'training_timestamp': datetime.now().isoformat(),\n",
    "    'models_trained': list(trained_models.keys()),\n",
    "    'training_config': training_config,\n",
    "    'results': training_results,\n",
    "    'model_details': trained_models\n",
    "}\n",
    "\n",
    "# Update pipeline state\n",
    "state.mark_step_complete('model_training_completed', **training_summary)\n",
    "\n",
    "# Save training report\n",
    "results_dir = Path(\"../results\")\n",
    "results_dir.mkdir(exist_ok=True)\n",
    "\n",
    "with open(results_dir / 'training_report.json', 'w') as f:\n",
    "    json.dump(training_summary, f, indent=2)\n",
    "\n",
    "# Create training results visualization\n",
    "if len(training_results) > 0:\n",
    "    plt.figure(figsize=(15, 5))\n",
    "    \n",
    "    # Subplot 1: Training Loss\n",
    "    plt.subplot(1, 3, 1)\n",
    "    model_names = list(training_results.keys())\n",
    "    train_losses = [training_results[m]['train_loss'] for m in model_names]\n",
    "    plt.bar(model_names, train_losses)\n",
    "    plt.title('Training Loss by Model')\n",
    "    plt.ylabel('Training Loss')\n",
    "    plt.xticks(rotation=45)\n",
    "    \n",
    "    # Subplot 2: Validation Loss\n",
    "    plt.subplot(1, 3, 2)\n",
    "    eval_losses = [training_results[m]['eval_loss'] for m in model_names]\n",
    "    plt.bar(model_names, eval_losses)\n",
    "    plt.title('Validation Loss by Model')\n",
    "    plt.ylabel('Validation Loss')\n",
    "    plt.xticks(rotation=45)\n",
    "    \n",
    "    # Subplot 3: Validation Accuracy\n",
    "    plt.subplot(1, 3, 3)\n",
    "    eval_accuracies = [training_results[m]['eval_accuracy'] for m in model_names]\n",
    "    plt.bar(model_names, eval_accuracies)\n",
    "    plt.title('Validation Accuracy by Model')\n",
    "    plt.ylabel('Accuracy')\n",
    "    plt.xticks(rotation=45)\n",
    "    plt.ylim(0, 1)\n",
    "    \n",
    "    plt.tight_layout()\n",
    "    plt.savefig(results_dir / 'training_results_comparison.png', dpi=300, bbox_inches='tight')\n",
    "    plt.show()\n",
    "\n",
    "print(f\"\\n{'='*60}\")\n",
    "print(\"🎉 MODEL TRAINING COMPLETED SUCCESSFULLY!\")\n",
    "print(f\"{'='*60}\")\n",
    "print(\"📝 Next Steps:\")\n",
    "print(\"1. Run 3_convert_to_onnx_generalized.ipynb to convert models to ONNX\")\n",
    "print(\"2. Run 4_benchmarks_generalized.ipynb to benchmark performance\")\n",
    "print(\"3. Continue with the sequential pipeline: 5 → 6\")\n",
    "\n",
    "print(f\"\\n🏋️ Training Summary:\")\n",
    "print(f\"   🤖 Models trained: {len(trained_models)}\")\n",
    "\n",
    "for model_name, results in training_results.items():\n",
    "    print(f\"   📊 {model_name}:\")\n",
    "    print(f\"      🎯 Validation accuracy: {results['eval_accuracy']:.4f}\")\n",
    "    print(f\"      📉 Validation loss: {results['eval_loss']:.4f}\")\n",
    "    print(f\"      📁 Model saved to: {trained_models[model_name]['model_path']}\")\n",
    "\n",
    "print(f\"\\n📄 Training report saved to: {results_dir / 'training_report.json'}\")\n",
    "print(f\"📊 Results visualization saved to: {results_dir / 'training_results_comparison.png'}\")\n",
    "\n",
    "logger.info(\"✅ Model training completed successfully\")"
   ]
  }
 ],
 "metadata": {
  "kernelspec": {
   "display_name": "venv-py311",
   "language": "python",
   "name": "python3"
  },
  "language_info": {
   "codemirror_mode": {
    "name": "ipython",
    "version": 3
   },
   "file_extension": ".py",
   "mimetype": "text/x-python",
   "name": "python",
   "nbconvert_exporter": "python",
   "pygments_lexer": "ipython3",
   "version": "3.11.13"
  }
 },
 "nbformat": 4,
 "nbformat_minor": 4
}
