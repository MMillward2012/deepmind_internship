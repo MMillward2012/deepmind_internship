{
  "cells": [
    {
      "cell_type": "markdown",
      "metadata": {
        "colab_type": "text",
        "id": "view-in-github"
      },
      "source": [
        "<a href=\"https://colab.research.google.com/github/MMillward2012/deepmind_internship/blob/main/notebooks/4_train_tinyBERT.ipynb\" target=\"_parent\"><img src=\"https://colab.research.google.com/assets/colab-badge.svg\" alt=\"Open In Colab\"/></a>"
      ]
    },
    {
      "cell_type": "markdown",
      "metadata": {},
      "source": [
        "### Setup & Imports\n",
        "\n",
        "This cell loads all required libraries for data preprocessing, model training, evaluation, and saving.  \n",
        "Make sure this cell runs without errors before continuing with the notebook."
      ]
    },
    {
      "cell_type": "code",
      "execution_count": 46,
      "metadata": {},
      "outputs": [],
      "source": [
        "# %cd .."
      ]
    },
    {
      "cell_type": "code",
      "execution_count": null,
      "metadata": {
        "id": "RTwrJ4dSirfW"
      },
      "outputs": [],
      "source": [
        "import pandas as pd\n",
        "from sklearn.preprocessing import LabelEncoder\n",
        "from sklearn.model_selection import train_test_split\n",
        "from datasets import Dataset\n",
        "from transformers import AutoTokenizer, AutoModelForSequenceClassification, TrainingArguments, Trainer\n",
        "import evaluate\n",
        "from sklearn.metrics import confusion_matrix, ConfusionMatrixDisplay\n",
        "import matplotlib.pyplot as plt\n",
        "import pickle\n",
        "import os"
      ]
    },
    {
      "cell_type": "markdown",
      "metadata": {},
      "source": [
        "### Model Options for Financial Sentiment Classification\n",
        "\n",
        "This project supports fine-tuning and evaluation of a variety of **small transformer models** designed for natural language understanding and sentiment analysis. Below are the key models considered, ranging from lightweight general-purpose models to domain-specific financial sentiment models:\n",
        "\n",
        "| Model Name                                  | Approximate Size | Category             | Description                                                                                     |\n",
        "|---------------------------------------------|------------------|----------------------|-------------------------------------------------------------------------------------------------|\n",
        "| `huawei-noah/TinyBERT_General_4L_312D`     | ~14 million      | Tiny Transformer     | A compact, fast transformer designed for resource-efficient training and inference.             |\n",
        "| `distilbert-base-uncased`                   | ~66 million      | Distilled BERT       | Smaller, faster version of BERT retaining strong performance, a common baseline.                 |\n",
        "| `sentence-transformers/all-MiniLM-L6-v2`   | ~22 million      | MiniLM               | Ultra-compact encoder model optimized for sentence embeddings and classification.               |\n",
        "| `google/mobilebert-uncased`                  | ~25 million      | MobileBERT           | Efficient transformer model optimised for mobile and edge devices.                              |\n",
        "| `unsloth/SmolLM2-360M-Instruct`             | ~360 million     | Small Instruction-Tuned LLM | New generation small LLM with instruction tuning for robust language understanding.            |\n",
        "| `ProsusAI/finbert`                          | ~110 million     | Domain-Specific BERT | Financial domain-adapted BERT, fine-tuned on financial sentiment tasks for superior accuracy.   |\n",
        "\n",
        "---\n",
        "\n",
        "### Notes:\n",
        "\n",
        "- All models use the **transformer architecture**, but differ in size, design goals, and training data.  \n",
        "- Smaller models like TinyBERT, MiniLM, and MobileBERT are well-suited for fast training and deployment in resource-constrained environments.  \n",
        "- Larger domain-specific models such as FinBERT provide specialized knowledge for financial sentiment classification but require more computational resources.  \n",
        "- The newer SmolLM family provides instruction-tuned capabilities in a relatively small model size, offering a promising balance between performance and efficiency.  \n",
        "- This notebook implements a **generalized fine-tuning and evaluation pipeline** to easily train and compare any of these models on the FinancialPhraseBank dataset.\n"
      ]
    },
    {
      "cell_type": "code",
      "execution_count": 48,
      "metadata": {},
      "outputs": [],
      "source": [
        "CSV_PATH = \"data/FinancialPhraseBank/all-data.csv\"\n",
        "MODEL_NAME = \"huawei-noah/TinyBERT_General_4L_312D\"\n",
        "MAX_LENGTH = 128\n",
        "BATCH_SIZE = 16\n",
        "NUM_EPOCHS = 3\n",
        "SEED = 42\n",
        "OUTPUT_DIR = \"models/tinybert-financial-classifier\""
      ]
    },
    {
      "cell_type": "markdown",
      "metadata": {},
      "source": [
        "### Data Loading and Preprocessing\n",
        "\n",
        "These functions handle the initial stages of preparing the dataset:\n",
        "\n",
        "- `load_and_process_data`: Loads the FinancialPhraseBank CSV file and removes any extra quotation marks from sentences.\n",
        "- `encode_and_split`: Converts string sentiment labels into numeric form using `LabelEncoder`, and splits the data into training and validation sets using stratified sampling.\n",
        "\n",
        "These steps are crucial for preparing the data for fine-tuning transformer models on sentiment classification."
      ]
    },
    {
      "cell_type": "code",
      "execution_count": 49,
      "metadata": {},
      "outputs": [],
      "source": [
        "def load_and_process_data(csv_path):\n",
        "    df = pd.read_csv(csv_path, header=None, names=[\"label\", \"sentence\"], encoding=\"latin-1\")\n",
        "    df[\"sentence\"] = df[\"sentence\"].str.strip('\"')\n",
        "    return df\n",
        "\n",
        "def encode_and_split(df, seed=SEED):\n",
        "    le = LabelEncoder()\n",
        "    df[\"label\"] = le.fit_transform(df[\"label\"])\n",
        "    train_df, val_df = train_test_split(df, test_size=0.25, stratify=df[\"label\"], random_state=seed)\n",
        "    return train_df, val_df, le\n"
      ]
    },
    {
      "cell_type": "markdown",
      "metadata": {},
      "source": [
        "# Dataset Preparation Functions"
      ]
    },
    {
      "cell_type": "code",
      "execution_count": 50,
      "metadata": {},
      "outputs": [],
      "source": [
        "def prepare_datasets(train_df, val_df, tokenizer, max_length=MAX_LENGTH):\n",
        "    train_dataset = Dataset.from_pandas(train_df.reset_index(drop=True))\n",
        "    val_dataset = Dataset.from_pandas(val_df.reset_index(drop=True))\n",
        "\n",
        "    def tokenize_fn(example):\n",
        "        return tokenizer(example[\"sentence\"], truncation=True, padding=\"max_length\", max_length=max_length)\n",
        "\n",
        "    train_dataset = train_dataset.map(tokenize_fn, batched=True)\n",
        "    val_dataset = val_dataset.map(tokenize_fn, batched=True)\n",
        "\n",
        "    train_dataset = train_dataset.remove_columns([\"sentence\"])\n",
        "    val_dataset = val_dataset.remove_columns([\"sentence\"])\n",
        "    train_dataset = train_dataset.rename_column(\"label\", \"labels\")\n",
        "    val_dataset = val_dataset.rename_column(\"label\", \"labels\")\n",
        "\n",
        "    train_dataset.set_format(\"torch\")\n",
        "    val_dataset.set_format(\"torch\")\n",
        "\n",
        "    return train_dataset, val_dataset\n"
      ]
    },
    {
      "cell_type": "markdown",
      "metadata": {},
      "source": [
        "# Model and Training Setup Functions"
      ]
    },
    {
      "cell_type": "code",
      "execution_count": 51,
      "metadata": {},
      "outputs": [],
      "source": [
        "def get_model(model_name, num_labels):\n",
        "    return AutoModelForSequenceClassification.from_pretrained(model_name, num_labels=num_labels)\n",
        "\n",
        "def get_training_args(output_dir, batch_size=BATCH_SIZE, num_epochs=NUM_EPOCHS, seed=SEED):\n",
        "    return TrainingArguments(\n",
        "        output_dir=output_dir,\n",
        "        eval_strategy=\"epoch\",\n",
        "        save_strategy=\"epoch\",\n",
        "        learning_rate=2e-5,\n",
        "        per_device_train_batch_size=batch_size,\n",
        "        per_device_eval_batch_size=batch_size,\n",
        "        num_train_epochs=num_epochs,\n",
        "        weight_decay=0.01,\n",
        "        logging_dir=\"./logs\",\n",
        "        logging_steps=50,\n",
        "        load_best_model_at_end=True,\n",
        "        metric_for_best_model=\"accuracy\",\n",
        "        save_total_limit=2,\n",
        "        seed=seed,\n",
        "    )\n"
      ]
    },
    {
      "cell_type": "markdown",
      "metadata": {},
      "source": [
        "# Metrics and Evaluation Functions"
      ]
    },
    {
      "cell_type": "code",
      "execution_count": 52,
      "metadata": {},
      "outputs": [],
      "source": [
        "accuracy_metric = evaluate.load(\"accuracy\")\n",
        "\n",
        "def compute_metrics(eval_pred):\n",
        "    logits, labels = eval_pred\n",
        "    predictions = logits.argmax(axis=-1)\n",
        "    return accuracy_metric.compute(predictions=predictions, references=labels)\n",
        "\n",
        "def plot_confusion_matrix(trainer, val_dataset, label_encoder):\n",
        "    predictions = trainer.predict(val_dataset)\n",
        "    y_true = predictions.label_ids\n",
        "    y_pred = predictions.predictions.argmax(axis=1)\n",
        "    cm = confusion_matrix(y_true, y_pred)\n",
        "    disp = ConfusionMatrixDisplay(confusion_matrix=cm, display_labels=label_encoder.classes_)\n",
        "    disp.plot()\n",
        "    plt.show()\n"
      ]
    },
    {
      "cell_type": "markdown",
      "metadata": {},
      "source": [
        "# Run Training and Evaluation"
      ]
    },
    {
      "cell_type": "code",
      "execution_count": 53,
      "metadata": {},
      "outputs": [
        {
          "name": "stdout",
          "output_type": "stream",
          "text": [
            "Training samples: 3634\n",
            "Validation samples: 1212\n",
            "Classes: ['negative', 'neutral', 'positive']\n"
          ]
        },
        {
          "data": {
            "application/vnd.jupyter.widget-view+json": {
              "model_id": "17f77f3a77d24586941d4f55f01dfde7",
              "version_major": 2,
              "version_minor": 0
            },
            "text/plain": [
              "Map:   0%|          | 0/3634 [00:00<?, ? examples/s]"
            ]
          },
          "metadata": {},
          "output_type": "display_data"
        },
        {
          "data": {
            "application/vnd.jupyter.widget-view+json": {
              "model_id": "5b506cbe58644db0a638b2e7f66238cd",
              "version_major": 2,
              "version_minor": 0
            },
            "text/plain": [
              "Map:   0%|          | 0/1212 [00:00<?, ? examples/s]"
            ]
          },
          "metadata": {},
          "output_type": "display_data"
        },
        {
          "name": "stderr",
          "output_type": "stream",
          "text": [
            "Some weights of BertForSequenceClassification were not initialized from the model checkpoint at huawei-noah/TinyBERT_General_4L_312D and are newly initialized: ['classifier.bias', 'classifier.weight']\n",
            "You should probably TRAIN this model on a down-stream task to be able to use it for predictions and inference.\n",
            "/Users/matthew/Documents/deepmind_internship/venv-py311/lib/python3.11/site-packages/torch/utils/data/dataloader.py:683: UserWarning: 'pin_memory' argument is set as true but not supported on MPS now, then device pinned memory won't be used.\n",
            "  warnings.warn(warn_msg)\n"
          ]
        },
        {
          "data": {
            "text/html": [
              "\n",
              "    <div>\n",
              "      \n",
              "      <progress value='684' max='684' style='width:300px; height:20px; vertical-align: middle;'></progress>\n",
              "      [684/684 03:15, Epoch 3/3]\n",
              "    </div>\n",
              "    <table border=\"1\" class=\"dataframe\">\n",
              "  <thead>\n",
              " <tr style=\"text-align: left;\">\n",
              "      <th>Epoch</th>\n",
              "      <th>Training Loss</th>\n",
              "      <th>Validation Loss</th>\n",
              "      <th>Accuracy</th>\n",
              "    </tr>\n",
              "  </thead>\n",
              "  <tbody>\n",
              "    <tr>\n",
              "      <td>1</td>\n",
              "      <td>0.706000</td>\n",
              "      <td>0.664036</td>\n",
              "      <td>0.772277</td>\n",
              "    </tr>\n",
              "    <tr>\n",
              "      <td>2</td>\n",
              "      <td>0.535200</td>\n",
              "      <td>0.559646</td>\n",
              "      <td>0.791254</td>\n",
              "    </tr>\n",
              "    <tr>\n",
              "      <td>3</td>\n",
              "      <td>0.465700</td>\n",
              "      <td>0.547999</td>\n",
              "      <td>0.789604</td>\n",
              "    </tr>\n",
              "  </tbody>\n",
              "</table><p>"
            ],
            "text/plain": [
              "<IPython.core.display.HTML object>"
            ]
          },
          "metadata": {},
          "output_type": "display_data"
        },
        {
          "name": "stderr",
          "output_type": "stream",
          "text": [
            "/Users/matthew/Documents/deepmind_internship/venv-py311/lib/python3.11/site-packages/torch/utils/data/dataloader.py:683: UserWarning: 'pin_memory' argument is set as true but not supported on MPS now, then device pinned memory won't be used.\n",
            "  warnings.warn(warn_msg)\n",
            "/Users/matthew/Documents/deepmind_internship/venv-py311/lib/python3.11/site-packages/torch/utils/data/dataloader.py:683: UserWarning: 'pin_memory' argument is set as true but not supported on MPS now, then device pinned memory won't be used.\n",
            "  warnings.warn(warn_msg)\n"
          ]
        },
        {
          "name": "stdout",
          "output_type": "stream",
          "text": [
            "Model, tokenizer, and label encoder saved to 'models/tinybert-financial-classifier'\n"
          ]
        },
        {
          "name": "stderr",
          "output_type": "stream",
          "text": [
            "/Users/matthew/Documents/deepmind_internship/venv-py311/lib/python3.11/site-packages/torch/utils/data/dataloader.py:683: UserWarning: 'pin_memory' argument is set as true but not supported on MPS now, then device pinned memory won't be used.\n",
            "  warnings.warn(warn_msg)\n"
          ]
        },
        {
          "data": {
            "text/html": [],
            "text/plain": [
              "<IPython.core.display.HTML object>"
            ]
          },
          "metadata": {},
          "output_type": "display_data"
        },
        {
          "data": {
            "image/png": "[encoded data removed]",
            "text/plain": [
              "<Figure size 640x480 with 2 Axes>"
            ]
          },
          "metadata": {},
          "output_type": "display_data"
        }
      ],
      "source": [
        "# Load and preprocess data\n",
        "df = load_and_process_data(CSV_PATH)\n",
        "train_df, val_df, label_encoder = encode_and_split(df)\n",
        "\n",
        "print(f\"Training samples: {len(train_df)}\")\n",
        "print(f\"Validation samples: {len(val_df)}\")\n",
        "print(f\"Classes: {list(label_encoder.classes_)}\")\n",
        "\n",
        "# Tokeniser and dataset prep\n",
        "tokenizer = AutoTokenizer.from_pretrained(MODEL_NAME)\n",
        "train_dataset, val_dataset = prepare_datasets(train_df, val_df, tokenizer)\n",
        "\n",
        "# Model and training setup\n",
        "model = get_model(MODEL_NAME, num_labels=len(label_encoder.classes_))\n",
        "training_args = get_training_args(OUTPUT_DIR)\n",
        "\n",
        "trainer = Trainer(\n",
        "    model=model,\n",
        "    args=training_args,\n",
        "    train_dataset=train_dataset,\n",
        "    eval_dataset=val_dataset,\n",
        "    compute_metrics=compute_metrics,\n",
        ")\n",
        "\n",
        "# Train model\n",
        "trainer.train()\n",
        "\n",
        "# Save final model, tokenizer, and label encoder\n",
        "os.makedirs(OUTPUT_DIR, exist_ok=True)\n",
        "trainer.model.save_pretrained(OUTPUT_DIR)\n",
        "tokenizer.save_pretrained(OUTPUT_DIR)\n",
        "with open(os.path.join(OUTPUT_DIR, \"label_encoder.pkl\"), \"wb\") as f:\n",
        "    pickle.dump(label_encoder, f)\n",
        "print(f\"Model, tokenizer, and label encoder saved to '{OUTPUT_DIR}'\")\n",
        "\n",
        "# Plot confusion matrix\n",
        "plot_confusion_matrix(trainer, val_dataset, label_encoder)"
      ]
    }
  ],
  "metadata": {
    "colab": {
      "authorship_tag": "ABX9TyPEaWosSVJk00KG/SJV/J7B",
      "include_colab_link": true,
      "provenance": []
    },
    "kernelspec": {
      "display_name": "venv-py311",
      "language": "python",
      "name": "python3"
    },
    "language_info": {
      "codemirror_mode": {
        "name": "ipython",
        "version": 3
      },
      "file_extension": ".py",
      "mimetype": "text/x-python",
      "name": "python",
      "nbconvert_exporter": "python",
      "pygments_lexer": "ipython3",
      "version": "3.11.13"
    }
  },
  "nbformat": 4,
  "nbformat_minor": 0
}
