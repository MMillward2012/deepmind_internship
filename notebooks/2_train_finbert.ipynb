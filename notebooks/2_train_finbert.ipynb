{
  "cells": [
    {
      "cell_type": "markdown",
      "metadata": {
        "colab_type": "text",
        "id": "view-in-github"
      },
      "source": [
        "<a href=\"https://colab.research.google.com/github/MMillward2012/deepmind_internship/blob/main/notebooks/2_train_finbert.ipynb\" target=\"_parent\"><img src=\"https://colab.research.google.com/assets/colab-badge.svg\" alt=\"Open In Colab\"/></a>"
      ]
    },
    {
      "cell_type": "markdown",
      "metadata": {},
      "source": [
        "# 📦 Imports\n",
        "We import the necessary packages for data manipulation, visualisation, model inference, and evaluation."
      ]
    },
    {
      "cell_type": "code",
      "execution_count": 37,
      "metadata": {
        "id": "RTwrJ4dSirfW"
      },
      "outputs": [],
      "source": [
        "import pandas as pd\n",
        "import scipy\n",
        "import seaborn as sns\n",
        "import matplotlib.pyplot as plt\n",
        "from sklearn.metrics import accuracy_score, classification_report, confusion_matrix, roc_auc_score\n",
        "import torch\n",
        "from transformers import AutoTokenizer, AutoModelForSequenceClassification"
      ]
    },
    {
      "cell_type": "markdown",
      "metadata": {},
      "source": [
        "# 📄 Load the Dataset\n",
        "\n",
        "We load the dataset containing text and sentiment labels. The encoding is specified to handle special characters. Column names are explicitly set."
      ]
    },
    {
      "cell_type": "code",
      "execution_count": 38,
      "metadata": {},
      "outputs": [
        {
          "name": "stdout",
          "output_type": "stream",
          "text": [
            "Dataset shape: (4552, 2)\n"
          ]
        },
        {
          "data": {
            "text/html": [
              "<div>\n",
              "<style scoped>\n",
              "    .dataframe tbody tr th:only-of-type {\n",
              "        vertical-align: middle;\n",
              "    }\n",
              "\n",
              "    .dataframe tbody tr th {\n",
              "        vertical-align: top;\n",
              "    }\n",
              "\n",
              "    .dataframe thead th {\n",
              "        text-align: right;\n",
              "    }\n",
              "</style>\n",
              "<table border=\"1\" class=\"dataframe\">\n",
              "  <thead>\n",
              "    <tr style=\"text-align: right;\">\n",
              "      <th></th>\n",
              "      <th>Sentiment</th>\n",
              "      <th>Text</th>\n",
              "    </tr>\n",
              "  </thead>\n",
              "  <tbody>\n",
              "    <tr>\n",
              "      <th>0</th>\n",
              "      <td>Sentiment</td>\n",
              "      <td>Text</td>\n",
              "    </tr>\n",
              "    <tr>\n",
              "      <th>1</th>\n",
              "      <td>negative</td>\n",
              "      <td>Finnish airline Finnair is starting the tempor...</td>\n",
              "    </tr>\n",
              "    <tr>\n",
              "      <th>2</th>\n",
              "      <td>neutral</td>\n",
              "      <td>The corresponding increase in the share capita...</td>\n",
              "    </tr>\n",
              "    <tr>\n",
              "      <th>3</th>\n",
              "      <td>negative</td>\n",
              "      <td>In the third quarter of fiscal 2008 Efore swun...</td>\n",
              "    </tr>\n",
              "    <tr>\n",
              "      <th>4</th>\n",
              "      <td>neutral</td>\n",
              "      <td>ALEXANDRIA , Va. , Oct. 15 -- Aaron Moss of Ha...</td>\n",
              "    </tr>\n",
              "  </tbody>\n",
              "</table>\n",
              "</div>"
            ],
            "text/plain": [
              "   Sentiment                                               Text\n",
              "0  Sentiment                                               Text\n",
              "1   negative  Finnish airline Finnair is starting the tempor...\n",
              "2    neutral  The corresponding increase in the share capita...\n",
              "3   negative  In the third quarter of fiscal 2008 Efore swun...\n",
              "4    neutral  ALEXANDRIA , Va. , Oct. 15 -- Aaron Moss of Ha..."
            ]
          },
          "execution_count": 38,
          "metadata": {},
          "output_type": "execute_result"
        }
      ],
      "source": [
        "# Load CSV with column names: 'Sentiment' and 'Text'\n",
        "data = pd.read_csv('data/FinancialClassification/train_updated.csv', \n",
        "                   encoding='unicode_escape',\n",
        "                   names=['Sentiment', 'Text'])\n",
        "\n",
        "# Display the dataset shape and preview the first few rows\n",
        "print(\"Dataset shape:\", data.shape)\n",
        "data.head()"
      ]
    },
    {
      "cell_type": "markdown",
      "metadata": {},
      "source": [
        "# 🧹 Preprocess Data\n",
        "\n",
        "We extract the text and sentiment labels into separate lists for further processing."
      ]
    },
    {
      "cell_type": "code",
      "execution_count": 39,
      "metadata": {},
      "outputs": [],
      "source": [
        "X = data['Text'].to_list()\n",
        "y = data['Sentiment'].to_list()"
      ]
    },
    {
      "cell_type": "markdown",
      "metadata": {},
      "source": [
        "# 🤗 Load FinBERT Model\n",
        "\n",
        "We load the FinBERT model and tokenizer from Hugging Face’s model hub. This model is pre-trained specifically on financial sentiment analysis."
      ]
    },
    {
      "cell_type": "code",
      "execution_count": 40,
      "metadata": {},
      "outputs": [],
      "source": [
        "# Load tokenizer and sentiment classification model\n",
        "tokenizer = AutoTokenizer.from_pretrained(\"ProsusAI/finbert\")\n",
        "model = AutoModelForSequenceClassification.from_pretrained(\"ProsusAI/finbert\")"
      ]
    },
    {
      "cell_type": "markdown",
      "metadata": {},
      "source": [
        "# 🔮 Run Inference\n",
        "\n",
        "We loop through each sentence, tokenise it, and run it through the FinBERT model to obtain predictions and their probabilities"
      ]
    },
    {
      "cell_type": "code",
      "execution_count": 41,
      "metadata": {},
      "outputs": [],
      "source": [
        "preds = []\n",
        "preds_proba = []\n",
        "tokenizer_kwargs = {\"padding\": True, \"truncation\": True, \"max_length\": 512}\n",
        "for x in X:\n",
        "    with torch.no_grad():\n",
        "        input_sequence = tokenizer(x, return_tensors=\"pt\", **tokenizer_kwargs) # Tokenize the input text\n",
        "        logits = model(**input_sequence).logits # Raw output scores from the model\n",
        "        scores = {\n",
        "        k: v\n",
        "        for k, v in zip(\n",
        "            model.config.id2label.values(),\n",
        "            scipy.special.softmax(logits.numpy().squeeze()), # Convert logits to probabilities\n",
        "        )\n",
        "    }\n",
        "    sentimentFinbert = max(scores, key=scores.get)\n",
        "    probabilityFinbert = max(scores.values())\n",
        "    preds.append(sentimentFinbert)\n",
        "    preds_proba.append(probabilityFinbert)"
      ]
    },
    {
      "cell_type": "markdown",
      "metadata": {},
      "source": [
        "# 🧪 Evaluate Performance\n",
        "\n",
        "We compute and display the model’s accuracy and a detailed classification report."
      ]
    },
    {
      "cell_type": "code",
      "execution_count": 42,
      "metadata": {},
      "outputs": [
        {
          "name": "stdout",
          "output_type": "stream",
          "text": [
            "✅ Accuracy Score: 0.8807\n",
            "\n",
            "📋 Classification Report:\n",
            "\n",
            "              precision    recall  f1-score   support\n",
            "\n",
            "   Sentiment       0.00      0.00      0.00         1\n",
            "    negative       0.79      0.95      0.86       601\n",
            "     neutral       0.96      0.86      0.90      2676\n",
            "    positive       0.80      0.90      0.85      1274\n",
            "\n",
            "    accuracy                           0.88      4552\n",
            "   macro avg       0.64      0.68      0.65      4552\n",
            "weighted avg       0.89      0.88      0.88      4552\n",
            "\n"
          ]
        },
        {
          "name": "stderr",
          "output_type": "stream",
          "text": [
            "/Users/matthew/Documents/deepmind_internship/venv-py311/lib/python3.11/site-packages/sklearn/metrics/_classification.py:1706: UndefinedMetricWarning: Precision is ill-defined and being set to 0.0 in labels with no predicted samples. Use `zero_division` parameter to control this behavior.\n",
            "  _warn_prf(average, modifier, f\"{metric.capitalize()} is\", result.shape[0])\n",
            "/Users/matthew/Documents/deepmind_internship/venv-py311/lib/python3.11/site-packages/sklearn/metrics/_classification.py:1706: UndefinedMetricWarning: Precision is ill-defined and being set to 0.0 in labels with no predicted samples. Use `zero_division` parameter to control this behavior.\n",
            "  _warn_prf(average, modifier, f\"{metric.capitalize()} is\", result.shape[0])\n",
            "/Users/matthew/Documents/deepmind_internship/venv-py311/lib/python3.11/site-packages/sklearn/metrics/_classification.py:1706: UndefinedMetricWarning: Precision is ill-defined and being set to 0.0 in labels with no predicted samples. Use `zero_division` parameter to control this behavior.\n",
            "  _warn_prf(average, modifier, f\"{metric.capitalize()} is\", result.shape[0])\n"
          ]
        }
      ],
      "source": [
        "# Print overall accuracy\n",
        "print(f\"✅ Accuracy Score: {accuracy_score(y, preds):.4f}\")\n",
        "\n",
        "# Show precision, recall, and F1-score for each class\n",
        "print(\"\\n📋 Classification Report:\\n\")\n",
        "print(classification_report(y, preds))"
      ]
    },
    {
      "cell_type": "markdown",
      "metadata": {},
      "source": [
        "# 📊 Visualise Confusion Matrix\n",
        "\n",
        "We plot a confusion matrix to show how well the model distinguishes between sentiment classes."
      ]
    },
    {
      "cell_type": "code",
      "execution_count": null,
      "metadata": {},
      "outputs": [
        {
          "data": {
            "image/png": "[encoded data removed]",
            "text/plain": [
              "<Figure size 800x600 with 2 Axes>"
            ]
          },
          "metadata": {},
          "output_type": "display_data"
        },
        {
          "ename": "",
          "evalue": "",
          "output_type": "error",
          "traceback": [
            "\u001b[1;31mThe Kernel crashed while executing code in the current cell or a previous cell. \n",
            "\u001b[1;31mPlease review the code in the cell(s) to identify a possible cause of the failure. \n",
            "\u001b[1;31mClick <a href='https://aka.ms/vscodeJupyterKernelCrash'>here</a> for more info. \n",
            "\u001b[1;31mView Jupyter <a href='command:jupyter.viewOutput'>log</a> for further details."
          ]
        }
      ],
      "source": [
        "# Compute confusion matrix and convert to DataFrame for better labels\n",
        "cm = confusion_matrix(y, preds, labels=['positive', 'neutral', 'negative'])\n",
        "cm_df = pd.DataFrame(cm, index=['Positive', 'Neutral', 'Negative'], columns=['Positive', 'Neutral', 'Negative'])\n",
        "\n",
        "# Plot the confusion matrix\n",
        "plt.figure(figsize=(8, 6))\n",
        "sns.heatmap(cm_df, annot=True, cmap='YlGnBu', fmt='d')\n",
        "plt.title('Confusion Matrix')\n",
        "plt.ylabel('Actual')\n",
        "plt.xlabel('Predicted')\n",
        "plt.tight_layout()\n",
        "plt.show()\n"
      ]
    }
  ],
  "metadata": {
    "colab": {
      "authorship_tag": "ABX9TyPEaWosSVJk00KG/SJV/J7B",
      "include_colab_link": true,
      "provenance": []
    },
    "kernelspec": {
      "display_name": "venv-py311",
      "language": "python",
      "name": "python3"
    },
    "language_info": {
      "codemirror_mode": {
        "name": "ipython",
        "version": 3
      },
      "file_extension": ".py",
      "mimetype": "text/x-python",
      "name": "python",
      "nbconvert_exporter": "python",
      "pygments_lexer": "ipython3",
      "version": "3.11.13"
    }
  },
  "nbformat": 4,
  "nbformat_minor": 0
}
