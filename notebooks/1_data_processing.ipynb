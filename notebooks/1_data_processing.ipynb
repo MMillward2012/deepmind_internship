{
  "cells": [
    {
      "cell_type": "markdown",
      "metadata": {
        "colab_type": "text",
        "id": "view-in-github"
      },
      "source": [
        "<a href=\"https://colab.research.google.com/github/MMillward2012/deepmind_internship/blob/main/notebooks/1_data_processing.ipynb\" target=\"_parent\"><img src=\"https://colab.research.google.com/assets/colab-badge.svg\" alt=\"Open In Colab\"/></a>"
      ]
    },
    {
      "cell_type": "code",
      "execution_count": 1,
      "metadata": {
        "id": "RTwrJ4dSirfW"
      },
      "outputs": [
        {
          "name": "stdout",
          "output_type": "stream",
          "text": [
            "tensor([1, 2, 3], device='mps:0')\n",
            "Running on device: mps\n"
          ]
        }
      ],
      "source": [
        "import torch\n",
        "device = torch.device(\"mps\") if torch.backends.mps.is_available() else torch.device(\"cpu\")\n",
        "\n",
        "x = torch.tensor([1, 2, 3], device=device)\n",
        "print(x)\n",
        "print(f\"Running on device: {device}\")\n"
      ]
    },
    {
      "cell_type": "code",
      "execution_count": 1,
      "metadata": {},
      "outputs": [
        {
          "name": "stdout",
          "output_type": "stream",
          "text": [
            "/Users/matthew/Documents/deepmind_internship\n"
          ]
        }
      ],
      "source": [
        "%cd .."
      ]
    },
    {
      "cell_type": "code",
      "execution_count": 13,
      "metadata": {},
      "outputs": [
        {
          "data": {
            "text/html": [
              "<div>\n",
              "<style scoped>\n",
              "    .dataframe tbody tr th:only-of-type {\n",
              "        vertical-align: middle;\n",
              "    }\n",
              "\n",
              "    .dataframe tbody tr th {\n",
              "        vertical-align: top;\n",
              "    }\n",
              "\n",
              "    .dataframe thead th {\n",
              "        text-align: right;\n",
              "    }\n",
              "</style>\n",
              "<table border=\"1\" class=\"dataframe\">\n",
              "  <thead>\n",
              "    <tr style=\"text-align: right;\">\n",
              "      <th></th>\n",
              "      <th>Sentiment</th>\n",
              "      <th>Text</th>\n",
              "    </tr>\n",
              "  </thead>\n",
              "  <tbody>\n",
              "    <tr>\n",
              "      <th>0</th>\n",
              "      <td>neutral</td>\n",
              "      <td>According to Gran , the company has no plans t...</td>\n",
              "    </tr>\n",
              "    <tr>\n",
              "      <th>1</th>\n",
              "      <td>neutral</td>\n",
              "      <td>Technopolis plans to develop in stages an area...</td>\n",
              "    </tr>\n",
              "    <tr>\n",
              "      <th>2</th>\n",
              "      <td>negative</td>\n",
              "      <td>The international electronic industry company ...</td>\n",
              "    </tr>\n",
              "    <tr>\n",
              "      <th>3</th>\n",
              "      <td>positive</td>\n",
              "      <td>With the new production plant the company woul...</td>\n",
              "    </tr>\n",
              "    <tr>\n",
              "      <th>4</th>\n",
              "      <td>positive</td>\n",
              "      <td>According to the company 's updated strategy f...</td>\n",
              "    </tr>\n",
              "  </tbody>\n",
              "</table>\n",
              "</div>"
            ],
            "text/plain": [
              "  Sentiment                                               Text\n",
              "0   neutral  According to Gran , the company has no plans t...\n",
              "1   neutral  Technopolis plans to develop in stages an area...\n",
              "2  negative  The international electronic industry company ...\n",
              "3  positive  With the new production plant the company woul...\n",
              "4  positive  According to the company 's updated strategy f..."
            ]
          },
          "execution_count": 13,
          "metadata": {},
          "output_type": "execute_result"
        }
      ],
      "source": [
        "data = pd.read_csv('data/FinancialPhraseBank/all-data.csv', \n",
        "                   encoding='unicode_escape',\n",
        "                   names=['Sentiment', 'Text'])\n",
        "data.head()"
      ]
    },
    {
      "cell_type": "code",
      "execution_count": 2,
      "metadata": {},
      "outputs": [
        {
          "name": "stdout",
          "output_type": "stream",
          "text": [
            "README.md        \u001b[34mmodels\u001b[m\u001b[m           \u001b[34mresults\u001b[m\u001b[m\n",
            "\u001b[34mdata\u001b[m\u001b[m             \u001b[34mnotebooks\u001b[m\u001b[m        \u001b[34msrc\u001b[m\u001b[m\n",
            "\u001b[34mfigures\u001b[m\u001b[m          requirements.txt \u001b[34mvenv-py311\u001b[m\u001b[m\n"
          ]
        }
      ],
      "source": [
        "!ls"
      ]
    },
    {
      "cell_type": "code",
      "execution_count": null,
      "metadata": {},
      "outputs": [
        {
          "data": {
            "text/html": [
              "<div>\n",
              "<style scoped>\n",
              "    .dataframe tbody tr th:only-of-type {\n",
              "        vertical-align: middle;\n",
              "    }\n",
              "\n",
              "    .dataframe tbody tr th {\n",
              "        vertical-align: top;\n",
              "    }\n",
              "\n",
              "    .dataframe thead th {\n",
              "        text-align: right;\n",
              "    }\n",
              "</style>\n",
              "<table border=\"1\" class=\"dataframe\">\n",
              "  <thead>\n",
              "    <tr style=\"text-align: right;\">\n",
              "      <th></th>\n",
              "      <th>Sentiment</th>\n",
              "      <th>Text</th>\n",
              "    </tr>\n",
              "  </thead>\n",
              "  <tbody>\n",
              "    <tr>\n",
              "      <th>0</th>\n",
              "      <td>positive</td>\n",
              "      <td>TeliaSonera TLSN said the offer is in line wit...</td>\n",
              "    </tr>\n",
              "    <tr>\n",
              "      <th>1</th>\n",
              "      <td>positive</td>\n",
              "      <td>STORA ENSO , NORSKE SKOG , M-REAL , UPM-KYMMEN...</td>\n",
              "    </tr>\n",
              "    <tr>\n",
              "      <th>2</th>\n",
              "      <td>positive</td>\n",
              "      <td>Clothing retail chain Sepp+Ã±l+Ã± 's sales inc...</td>\n",
              "    </tr>\n",
              "    <tr>\n",
              "      <th>3</th>\n",
              "      <td>positive</td>\n",
              "      <td>Lifetree was founded in 2000 , and its revenue...</td>\n",
              "    </tr>\n",
              "    <tr>\n",
              "      <th>4</th>\n",
              "      <td>positive</td>\n",
              "      <td>Nordea Group 's operating profit increased in ...</td>\n",
              "    </tr>\n",
              "  </tbody>\n",
              "</table>\n",
              "</div>"
            ],
            "text/plain": [
              "  Sentiment                                               Text\n",
              "0  positive  TeliaSonera TLSN said the offer is in line wit...\n",
              "1  positive  STORA ENSO , NORSKE SKOG , M-REAL , UPM-KYMMEN...\n",
              "2  positive  Clothing retail chain Sepp+Ã±l+Ã± 's sales inc...\n",
              "3  positive  Lifetree was founded in 2000 , and its revenue...\n",
              "4  positive  Nordea Group 's operating profit increased in ..."
            ]
          },
          "execution_count": 14,
          "metadata": {},
          "output_type": "execute_result"
        }
      ],
      "source": [
        "df = pd.read_csv('data/FinancialAuditor/test.csv', encoding='unicode_escape')\n",
        "df = df.rename(columns={'label': 'Sentiment', 'sentence': 'Text'})\n",
        "label_map = {0: 'negative', 1: 'neutral', 2: 'positive'}\n",
        "df['Sentiment'] = df['Sentiment'].map(label_map)\n",
        "df = df[['Sentiment', 'Text']]\n",
        "# df.to_csv('data/FinancialAuditor/test_updated.csv', index=False)\n",
        "df.head()\n",
        "\n"
      ]
    },
    {
      "cell_type": "code",
      "execution_count": null,
      "metadata": {},
      "outputs": [
        {
          "data": {
            "text/html": [
              "<div>\n",
              "<style scoped>\n",
              "    .dataframe tbody tr th:only-of-type {\n",
              "        vertical-align: middle;\n",
              "    }\n",
              "\n",
              "    .dataframe tbody tr th {\n",
              "        vertical-align: top;\n",
              "    }\n",
              "\n",
              "    .dataframe thead th {\n",
              "        text-align: right;\n",
              "    }\n",
              "</style>\n",
              "<table border=\"1\" class=\"dataframe\">\n",
              "  <thead>\n",
              "    <tr style=\"text-align: right;\">\n",
              "      <th></th>\n",
              "      <th>Sentiment</th>\n",
              "      <th>Text</th>\n",
              "    </tr>\n",
              "  </thead>\n",
              "  <tbody>\n",
              "    <tr>\n",
              "      <th>0</th>\n",
              "      <td>positive</td>\n",
              "      <td>Altia 's operating profit jumped to EUR 47 mil...</td>\n",
              "    </tr>\n",
              "    <tr>\n",
              "      <th>1</th>\n",
              "      <td>positive</td>\n",
              "      <td>The agreement was signed with Biohit Healthcar...</td>\n",
              "    </tr>\n",
              "    <tr>\n",
              "      <th>2</th>\n",
              "      <td>positive</td>\n",
              "      <td>Kesko pursues a strategy of healthy , focused ...</td>\n",
              "    </tr>\n",
              "    <tr>\n",
              "      <th>3</th>\n",
              "      <td>neutral</td>\n",
              "      <td>Vaisala , headquartered in Helsinki in Finland...</td>\n",
              "    </tr>\n",
              "    <tr>\n",
              "      <th>4</th>\n",
              "      <td>neutral</td>\n",
              "      <td>Also , a six-year historic analysis is provide...</td>\n",
              "    </tr>\n",
              "  </tbody>\n",
              "</table>\n",
              "</div>"
            ],
            "text/plain": [
              "  Sentiment                                               Text\n",
              "0  positive  Altia 's operating profit jumped to EUR 47 mil...\n",
              "1  positive  The agreement was signed with Biohit Healthcar...\n",
              "2  positive  Kesko pursues a strategy of healthy , focused ...\n",
              "3   neutral  Vaisala , headquartered in Helsinki in Finland...\n",
              "4   neutral  Also , a six-year historic analysis is provide..."
            ]
          },
          "execution_count": 15,
          "metadata": {},
          "output_type": "execute_result"
        }
      ],
      "source": [
        "df = pd.read_csv('data/FinancialAuditor/train.csv', encoding='unicode_escape')\n",
        "df = df.rename(columns={'label': 'Sentiment', 'sentence': 'Text'})\n",
        "label_map = {0: 'negative', 1: 'neutral', 2: 'positive'}\n",
        "df['Sentiment'] = df['Sentiment'].map(label_map)\n",
        "df = df[['Sentiment', 'Text']]\n",
        "# df.to_csv('data/FinancialAuditor/train_updated.csv', index=False)\n",
        "df.head()"
      ]
    },
    {
      "cell_type": "code",
      "execution_count": 21,
      "metadata": {},
      "outputs": [
        {
          "name": "stdout",
          "output_type": "stream",
          "text": [
            "Converting ./data/FinancialClassification/train-00000-of-00001-2.parquet to data/FinancialClassification/train.csv...\n",
            "Converting ./data/FinancialClassification/test-00000-of-00001-2.parquet to data/FinancialClassification/test.csv...\n"
          ]
        }
      ],
      "source": [
        "import pandas as pd\n",
        "import os\n",
        "\n",
        "parquet_folder = \"./data/FinancialClassification\"\n",
        "save_folder = \"data/FinancialClassification\"\n",
        "os.makedirs(save_folder, exist_ok=True)\n",
        "\n",
        "for split in [\"train\", \"test\"]:\n",
        "    parquet_path = os.path.join(parquet_folder, f\"{split}-00000-of-00001-2.parquet\")\n",
        "    csv_path = os.path.join(save_folder, f\"{split}.csv\")\n",
        "\n",
        "    print(f\"Converting {parquet_path} to {csv_path}...\")\n",
        "    df = pd.read_parquet(parquet_path, engine=\"fastparquet\")\n",
        "    df.to_csv(csv_path, index=False)\n"
      ]
    },
    {
      "cell_type": "code",
      "execution_count": null,
      "metadata": {},
      "outputs": [
        {
          "data": {
            "text/html": [
              "<div>\n",
              "<style scoped>\n",
              "    .dataframe tbody tr th:only-of-type {\n",
              "        vertical-align: middle;\n",
              "    }\n",
              "\n",
              "    .dataframe tbody tr th {\n",
              "        vertical-align: top;\n",
              "    }\n",
              "\n",
              "    .dataframe thead th {\n",
              "        text-align: right;\n",
              "    }\n",
              "</style>\n",
              "<table border=\"1\" class=\"dataframe\">\n",
              "  <thead>\n",
              "    <tr style=\"text-align: right;\">\n",
              "      <th></th>\n",
              "      <th>Sentiment</th>\n",
              "      <th>Text</th>\n",
              "    </tr>\n",
              "  </thead>\n",
              "  <tbody>\n",
              "    <tr>\n",
              "      <th>0</th>\n",
              "      <td>negative</td>\n",
              "      <td>Finnish airline Finnair is starting the tempor...</td>\n",
              "    </tr>\n",
              "    <tr>\n",
              "      <th>1</th>\n",
              "      <td>neutral</td>\n",
              "      <td>The corresponding increase in the share capita...</td>\n",
              "    </tr>\n",
              "    <tr>\n",
              "      <th>2</th>\n",
              "      <td>negative</td>\n",
              "      <td>In the third quarter of fiscal 2008 Efore swun...</td>\n",
              "    </tr>\n",
              "    <tr>\n",
              "      <th>3</th>\n",
              "      <td>neutral</td>\n",
              "      <td>ALEXANDRIA , Va. , Oct. 15 -- Aaron Moss of Ha...</td>\n",
              "    </tr>\n",
              "    <tr>\n",
              "      <th>4</th>\n",
              "      <td>neutral</td>\n",
              "      <td>Vaisala Oyj Stock exchange release 26.03.2010 ...</td>\n",
              "    </tr>\n",
              "  </tbody>\n",
              "</table>\n",
              "</div>"
            ],
            "text/plain": [
              "  Sentiment                                               Text\n",
              "0  negative  Finnish airline Finnair is starting the tempor...\n",
              "1   neutral  The corresponding increase in the share capita...\n",
              "2  negative  In the third quarter of fiscal 2008 Efore swun...\n",
              "3   neutral  ALEXANDRIA , Va. , Oct. 15 -- Aaron Moss of Ha...\n",
              "4   neutral  Vaisala Oyj Stock exchange release 26.03.2010 ..."
            ]
          },
          "execution_count": 26,
          "metadata": {},
          "output_type": "execute_result"
        }
      ],
      "source": [
        "df = pd.read_csv('data/FinancialClassification/train.csv', encoding='unicode_escape')\n",
        "df = df.rename(columns={'labels': 'Sentiment', 'text': 'Text'})\n",
        "label_map = {0: 'negative', 1: 'neutral', 2: 'positive'}\n",
        "df['Sentiment'] = df['Sentiment'].map(label_map)\n",
        "df = df[['Sentiment', 'Text']]\n",
        "# df.to_csv('data/FinancialClassification/train_updated.csv', index=False)\n",
        "df.head()"
      ]
    },
    {
      "cell_type": "code",
      "execution_count": null,
      "metadata": {},
      "outputs": [
        {
          "data": {
            "text/html": [
              "<div>\n",
              "<style scoped>\n",
              "    .dataframe tbody tr th:only-of-type {\n",
              "        vertical-align: middle;\n",
              "    }\n",
              "\n",
              "    .dataframe tbody tr th {\n",
              "        vertical-align: top;\n",
              "    }\n",
              "\n",
              "    .dataframe thead th {\n",
              "        text-align: right;\n",
              "    }\n",
              "</style>\n",
              "<table border=\"1\" class=\"dataframe\">\n",
              "  <thead>\n",
              "    <tr style=\"text-align: right;\">\n",
              "      <th></th>\n",
              "      <th>Sentiment</th>\n",
              "      <th>Text</th>\n",
              "    </tr>\n",
              "  </thead>\n",
              "  <tbody>\n",
              "    <tr>\n",
              "      <th>0</th>\n",
              "      <td>neutral</td>\n",
              "      <td>COPYRIGHT AFX News and AFX Financial News Logo...</td>\n",
              "    </tr>\n",
              "    <tr>\n",
              "      <th>1</th>\n",
              "      <td>neutral</td>\n",
              "      <td>Satama and Trainers ' House will remain as nam...</td>\n",
              "    </tr>\n",
              "    <tr>\n",
              "      <th>2</th>\n",
              "      <td>negative</td>\n",
              "      <td>Prices and delivery volumes of broadband produ...</td>\n",
              "    </tr>\n",
              "    <tr>\n",
              "      <th>3</th>\n",
              "      <td>positive</td>\n",
              "      <td>When open next year , it will be the largest f...</td>\n",
              "    </tr>\n",
              "    <tr>\n",
              "      <th>4</th>\n",
              "      <td>neutral</td>\n",
              "      <td>The tower 's engineers have created an 18 degr...</td>\n",
              "    </tr>\n",
              "  </tbody>\n",
              "</table>\n",
              "</div>"
            ],
            "text/plain": [
              "  Sentiment                                               Text\n",
              "0   neutral  COPYRIGHT AFX News and AFX Financial News Logo...\n",
              "1   neutral  Satama and Trainers ' House will remain as nam...\n",
              "2  negative  Prices and delivery volumes of broadband produ...\n",
              "3  positive  When open next year , it will be the largest f...\n",
              "4   neutral  The tower 's engineers have created an 18 degr..."
            ]
          },
          "execution_count": 27,
          "metadata": {},
          "output_type": "execute_result"
        }
      ],
      "source": [
        "df = pd.read_csv('data/FinancialClassification/test.csv', encoding='unicode_escape')\n",
        "df = df.rename(columns={'labels': 'Sentiment', 'text': 'Text'})\n",
        "label_map = {0: 'negative', 1: 'neutral', 2: 'positive'}\n",
        "df['Sentiment'] = df['Sentiment'].map(label_map)\n",
        "df = df[['Sentiment', 'Text']]\n",
        "# df.to_csv('data/FinancialClassification/train_updated.csv', index=False)\n",
        "df.head()"
      ]
    }
  ],
  "metadata": {
    "colab": {
      "authorship_tag": "ABX9TyPEaWosSVJk00KG/SJV/J7B",
      "include_colab_link": true,
      "provenance": []
    },
    "kernelspec": {
      "display_name": "venv-py311",
      "language": "python",
      "name": "python3"
    },
    "language_info": {
      "codemirror_mode": {
        "name": "ipython",
        "version": 3
      },
      "file_extension": ".py",
      "mimetype": "text/x-python",
      "name": "python",
      "nbconvert_exporter": "python",
      "pygments_lexer": "ipython3",
      "version": "3.11.13"
    }
  },
  "nbformat": 4,
  "nbformat_minor": 0
}
